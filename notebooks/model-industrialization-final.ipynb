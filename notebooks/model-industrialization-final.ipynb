{
 "cells": [
  {
   "cell_type": "code",
   "execution_count": 14,
   "id": "ff5ae4f9",
   "metadata": {},
   "outputs": [
    {
     "name": "stdout",
     "output_type": "stream",
     "text": [
      "Requirement already satisfied: pandas in c:\\users\\srika\\documents\\dspro\\dsp-srikanth-banoth\\.venv\\lib\\site-packages (2.3.3)\n",
      "Requirement already satisfied: numpy in c:\\users\\srika\\documents\\dspro\\dsp-srikanth-banoth\\.venv\\lib\\site-packages (2.3.3)\n",
      "Requirement already satisfied: scikit-learn in c:\\users\\srika\\documents\\dspro\\dsp-srikanth-banoth\\.venv\\lib\\site-packages (1.7.2)\n",
      "Requirement already satisfied: joblib in c:\\users\\srika\\documents\\dspro\\dsp-srikanth-banoth\\.venv\\lib\\site-packages (1.5.2)\n",
      "Requirement already satisfied: python-dateutil>=2.8.2 in c:\\users\\srika\\documents\\dspro\\dsp-srikanth-banoth\\.venv\\lib\\site-packages (from pandas) (2.9.0.post0)\n",
      "Requirement already satisfied: pytz>=2020.1 in c:\\users\\srika\\documents\\dspro\\dsp-srikanth-banoth\\.venv\\lib\\site-packages (from pandas) (2025.2)\n",
      "Requirement already satisfied: tzdata>=2022.7 in c:\\users\\srika\\documents\\dspro\\dsp-srikanth-banoth\\.venv\\lib\\site-packages (from pandas) (2025.2)\n",
      "Requirement already satisfied: scipy>=1.8.0 in c:\\users\\srika\\documents\\dspro\\dsp-srikanth-banoth\\.venv\\lib\\site-packages (from scikit-learn) (1.16.2)\n",
      "Requirement already satisfied: threadpoolctl>=3.1.0 in c:\\users\\srika\\documents\\dspro\\dsp-srikanth-banoth\\.venv\\lib\\site-packages (from scikit-learn) (3.6.0)\n",
      "Requirement already satisfied: six>=1.5 in c:\\users\\srika\\documents\\dspro\\dsp-srikanth-banoth\\.venv\\lib\\site-packages (from python-dateutil>=2.8.2->pandas) (1.17.0)\n",
      "Note: you may need to restart the kernel to use updated packages.\n"
     ]
    }
   ],
   "source": [
    "pip install pandas numpy scikit-learn joblib\n"
   ]
  },
  {
   "cell_type": "code",
   "execution_count": null,
   "id": "26600f9b",
   "metadata": {},
   "outputs": [
    {
     "name": "stdout",
     "output_type": "stream",
     "text": [
      "RMSLE = 0.1383\n"
     ]
    },
    {
     "name": "stderr",
     "output_type": "stream",
     "text": [
      "c:\\Users\\srika\\Documents\\dspro\\dsp-srikanth-banoth\\.venv\\Lib\\site-packages\\sklearn\\preprocessing\\_encoders.py:246: UserWarning: Found unknown categories in columns [14, 29] during transform. These unknown categories will be encoded as all zeros\n",
      "  warnings.warn(\n"
     ]
    }
   ],
   "source": [
    "import pandas as pd\n",
    "from house_prices.train import build_model\n",
    "\n",
    "training_df = pd.read_csv(\"../data/train.csv\")\n",
    "model_performance_dict = build_model(training_df)\n",
    "print(f\"RMSLE = {float(model_performance_dict['rmsle']):.4f}\")\n"
   ]
  },
  {
   "cell_type": "code",
   "execution_count": null,
   "id": "2dee2e54",
   "metadata": {},
   "outputs": [
    {
     "data": {
      "text/plain": [
       "array([114881.52092344, 147790.88458675, 171716.40046495, 189805.69572851,\n",
       "       203956.09402875, 169823.28723083, 184635.1966827 , 159039.73451497,\n",
       "       187057.61580431, 121514.65764503])"
      ]
     },
     "execution_count": 25,
     "metadata": {},
     "output_type": "execute_result"
    }
   ],
   "source": [
    "import pandas as pd\n",
    "from house_prices.inference import make_predictions\n",
    "\n",
    "inference_df = pd.read_csv(\"../data/test.csv\")\n",
    "predictions = make_predictions(inference_df)\n",
    "predictions[:10] \n"
   ]
  },
  {
   "cell_type": "code",
   "execution_count": null,
   "id": "6ff8cff9",
   "metadata": {},
   "outputs": [],
   "source": []
  }
 ],
 "metadata": {
  "kernelspec": {
   "display_name": ".venv",
   "language": "python",
   "name": "python3"
  },
  "language_info": {
   "codemirror_mode": {
    "name": "ipython",
    "version": 3
   },
   "file_extension": ".py",
   "mimetype": "text/x-python",
   "name": "python",
   "nbconvert_exporter": "python",
   "pygments_lexer": "ipython3",
   "version": "3.13.7"
  }
 },
 "nbformat": 4,
 "nbformat_minor": 5
}
