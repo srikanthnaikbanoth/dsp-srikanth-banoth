{
 "cells": [
  {
   "cell_type": "code",
   "execution_count": 29,
   "id": "30b22f04-bef3-4b6d-b072-2a24e789e428",
   "metadata": {},
   "outputs": [],
   "source": [
    "import pandas as pd\n",
    "from house_prices.train import build_model\n"
   ]
  },
  {
   "cell_type": "code",
   "execution_count": 30,
   "id": "1f709fa9-6497-4c4a-872e-527b51c97ec7",
   "metadata": {},
   "outputs": [],
   "source": [
    "inference_df = pd.read_csv(\"data/test.csv\")\n"
   ]
  },
  {
   "cell_type": "markdown",
   "id": "2a31a3f4-e096-4bf2-975c-8eef329af027",
   "metadata": {},
   "source": [
    "# Model Building \n"
   ]
  },
  {
   "cell_type": "code",
   "execution_count": 34,
   "id": "ea64d338-e769-4580-96f7-e800c69f95b6",
   "metadata": {},
   "outputs": [
    {
     "name": "stdout",
     "output_type": "stream",
     "text": [
      "{'rmsle': np.float64(0.22)}\n"
     ]
    }
   ],
   "source": [
    "training_df = pd.read_csv(\"data/train.csv\")\n",
    "\n",
    "model_performance_dict = build_model(training_df)\n",
    "print(model_performance_dict)\n"
   ]
  },
  {
   "cell_type": "markdown",
   "id": "1be80c8c-f924-407a-a3cb-02428ce35e7f",
   "metadata": {},
   "source": [
    "# Model Inference\n"
   ]
  },
  {
   "cell_type": "code",
   "execution_count": 35,
   "id": "b738100c-7f09-46ef-b2f1-67a1d4f9c0ba",
   "metadata": {},
   "outputs": [
    {
     "data": {
      "text/plain": [
       "0    123370.658333\n",
       "1    151132.000000\n",
       "2    214492.000000\n",
       "3    192240.500000\n",
       "4    213486.885000\n",
       "Name: Predicted_SalePrice, dtype: float64"
      ]
     },
     "metadata": {},
     "output_type": "display_data"
    }
   ],
   "source": [
    "inference_df = pd.read_csv(\"data/test.csv\")\n",
    "predictions = make_predictions(inference_df)\n",
    "display(predictions.head())\n"
   ]
  },
  {
   "cell_type": "code",
   "execution_count": null,
   "id": "f0d993d7-58ac-4caa-b324-e4a3057cb75d",
   "metadata": {},
   "outputs": [],
   "source": []
  },
  {
   "cell_type": "code",
   "execution_count": null,
   "id": "2bba4b54-fb52-46d4-9365-9631d135b1db",
   "metadata": {},
   "outputs": [],
   "source": []
  }
 ],
 "metadata": {
  "kernelspec": {
   "display_name": "Python 3 (ipykernel)",
   "language": "python",
   "name": "python3"
  },
  "language_info": {
   "codemirror_mode": {
    "name": "ipython",
    "version": 3
   },
   "file_extension": ".py",
   "mimetype": "text/x-python",
   "name": "python",
   "nbconvert_exporter": "python",
   "pygments_lexer": "ipython3",
   "version": "3.13.5"
  }
 },
 "nbformat": 4,
 "nbformat_minor": 5
}
