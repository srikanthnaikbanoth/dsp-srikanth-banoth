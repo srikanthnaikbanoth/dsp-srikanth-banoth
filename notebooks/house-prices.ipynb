{
 "cells": [
  {
   "cell_type": "code",
   "execution_count": 27,
   "id": "34270e67",
   "metadata": {
    "vscode": {
     "languageId": "plaintext"
    }
   },
   "outputs": [
    {
     "name": "stdout",
     "output_type": "stream",
     "text": [
      "(1460, 81)\n"
     ]
    }
   ],
   "source": [
    "import pandas as pd\n",
    "import numpy as np\n",
    "train = pd.read_csv(\"../data/train.csv\")\n",
    "test = pd.read_csv(\"../data/test.csv\")\n",
    "print(train.shape)\n",
    "train.head()\n",
    "features = [\"LotShape\", \"HouseStyle\", \"LandContour\", \"Utilities\", \"RoofStyle\",\"LotArea\", \"MSSubClass\", \"OverallQual\", \"OverallCond\"]\n",
    "X = train[features]\n",
    "y = train[\"SalePrice\"]"
   ]
  },
  {
   "cell_type": "code",
   "execution_count": 28,
   "id": "7297d353-ac7d-4d11-af7f-4061c5d97004",
   "metadata": {},
   "outputs": [
    {
     "data": {
      "text/plain": [
       "Id                 int64\n",
       "MSSubClass         int64\n",
       "MSZoning          object\n",
       "LotFrontage      float64\n",
       "LotArea            int64\n",
       "                  ...   \n",
       "MiscVal            int64\n",
       "MoSold             int64\n",
       "YrSold             int64\n",
       "SaleType          object\n",
       "SaleCondition     object\n",
       "Length: 80, dtype: object"
      ]
     },
     "execution_count": 28,
     "metadata": {},
     "output_type": "execute_result"
    }
   ],
   "source": [
    "test.dtypes\n"
   ]
  },
  {
   "cell_type": "code",
   "execution_count": 29,
   "id": "8d40efa0-c945-4711-99ff-662bb4b0287c",
   "metadata": {},
   "outputs": [],
   "source": [
    "from sklearn.preprocessing import StandardScaler\n",
    "num_features = [\"LotArea\", \"OverallCond\"]\n",
    "cat_features = [\"LotShape\", \"Utilities\"]\n",
    "X_num = X[num_features]\n",
    "X_cat = X[cat_features]\n",
    "\n",
    "\n"
   ]
  },
  {
   "cell_type": "code",
   "execution_count": 30,
   "id": "38323193-8b89-4282-8959-44498d981c46",
   "metadata": {},
   "outputs": [
    {
     "name": "stdout",
     "output_type": "stream",
     "text": [
      "X_train shape: (1168, 9)\n",
      "X_val shape: (292, 9)\n"
     ]
    }
   ],
   "source": [
    "from sklearn.model_selection import train_test_split\n",
    "y_log = np.log(y)\n",
    "X_train, X_val, y_train_log, y_val_log = train_test_split(\n",
    "    X, y_log, \n",
    "    test_size=0.2, \n",
    "    random_state=42)\n",
    "print(f\"X_train shape: {X_train.shape}\")\n",
    "print(f\"X_val shape: {X_val.shape}\")\n",
    "num_features = [\"LotArea\", \"MSSubClass\", \"OverallQual\", \"OverallCond\"]\n",
    "cat_features = [\"LotShape\", \"HouseStyle\", \"LandContour\", \"Utilities\", \"RoofStyle\"]\n",
    "X_train_num = X_train[num_features]\n",
    "X_train_cat = X_train[cat_features]\n",
    "X_val_num = X_val[num_features]\n",
    "X_val_cat = X_val[cat_features]"
   ]
  },
  {
   "cell_type": "code",
   "execution_count": 31,
   "id": "6a012e11-d296-4e4e-aca2-a76ac4a6551e",
   "metadata": {},
   "outputs": [
    {
     "name": "stdout",
     "output_type": "stream",
     "text": [
      "Processed Training Numerical Features (Head):\n",
      "       LotArea  MSSubClass  OverallQual  OverallCond\n",
      "254  -0.212896   -0.866764    -0.820445     0.372217\n",
      "1066 -0.265245    0.074110    -0.088934     1.268609\n",
      "638  -0.177841   -0.631546    -0.820445     1.268609\n",
      "799  -0.324474   -0.161109    -0.820445     1.268609\n",
      "380  -0.529035   -0.161109    -0.820445     0.372217\n",
      "\n",
      "Processed Validation Numerical Features (Head):\n",
      "       LotArea  MSSubClass  OverallQual  OverallCond\n",
      "892  -0.211594   -0.866764    -0.088934     2.165000\n",
      "1105  0.145643    0.074110     1.374088    -0.524174\n",
      "413  -0.160826   -0.631546    -0.820445     0.372217\n",
      "522  -0.529035   -0.161109    -0.088934     1.268609\n",
      "1036  0.205338   -0.866764     2.105599    -0.524174\n",
      "\n",
      "Processed Training Categorical Features (Head):\n",
      "      LotShape_IR2  LotShape_IR3  LotShape_Reg  HouseStyle_1.5Unf  \\\n",
      "254          False         False          True              False   \n",
      "1066         False         False         False              False   \n",
      "638          False         False          True              False   \n",
      "799          False         False          True              False   \n",
      "380          False         False          True              False   \n",
      "\n",
      "      HouseStyle_1Story  HouseStyle_2.5Fin  HouseStyle_2.5Unf  \\\n",
      "254                True              False              False   \n",
      "1066              False              False              False   \n",
      "638                True              False              False   \n",
      "799               False              False              False   \n",
      "380               False              False              False   \n",
      "\n",
      "      HouseStyle_2Story  HouseStyle_SFoyer  HouseStyle_SLvl  LandContour_HLS  \\\n",
      "254               False              False            False            False   \n",
      "1066               True              False            False            False   \n",
      "638               False              False            False            False   \n",
      "799               False              False            False            False   \n",
      "380               False              False            False            False   \n",
      "\n",
      "      LandContour_Low  LandContour_Lvl  Utilities_NoSeWa  RoofStyle_Gable  \\\n",
      "254             False             True             False             True   \n",
      "1066            False             True             False             True   \n",
      "638             False             True             False             True   \n",
      "799             False             True             False             True   \n",
      "380             False             True             False             True   \n",
      "\n",
      "      RoofStyle_Gambrel  RoofStyle_Hip  RoofStyle_Mansard  RoofStyle_Shed  \n",
      "254               False          False              False           False  \n",
      "1066              False          False              False           False  \n",
      "638               False          False              False           False  \n",
      "799               False          False              False           False  \n",
      "380               False          False              False           False  \n",
      "\n",
      "Processed Validation Categorical Features (Head):\n",
      "      LotShape_IR2  LotShape_IR3  LotShape_Reg  HouseStyle_1.5Unf  \\\n",
      "892          False         False          True              False   \n",
      "1105         False         False         False              False   \n",
      "413          False         False          True              False   \n",
      "522          False         False          True              False   \n",
      "1036         False         False         False              False   \n",
      "\n",
      "      HouseStyle_1Story  HouseStyle_2.5Fin  HouseStyle_2.5Unf  \\\n",
      "892                True              False                  0   \n",
      "1105              False              False                  0   \n",
      "413                True              False                  0   \n",
      "522               False              False                  0   \n",
      "1036               True              False                  0   \n",
      "\n",
      "      HouseStyle_2Story  HouseStyle_SFoyer  HouseStyle_SLvl  LandContour_HLS  \\\n",
      "892               False              False            False            False   \n",
      "1105               True              False            False            False   \n",
      "413               False              False            False            False   \n",
      "522               False              False            False            False   \n",
      "1036              False              False            False             True   \n",
      "\n",
      "      LandContour_Low  LandContour_Lvl  Utilities_NoSeWa  RoofStyle_Gable  \\\n",
      "892             False             True                 0            False   \n",
      "1105            False             True                 0             True   \n",
      "413             False             True                 0             True   \n",
      "522             False             True                 0             True   \n",
      "1036            False            False                 0            False   \n",
      "\n",
      "      RoofStyle_Gambrel  RoofStyle_Hip  RoofStyle_Mansard  RoofStyle_Shed  \n",
      "892               False           True              False               0  \n",
      "1105              False          False              False               0  \n",
      "413               False          False              False               0  \n",
      "522               False          False              False               0  \n",
      "1036              False           True              False               0  \n",
      "\n",
      "Final Combined Training Features (Head):\n",
      "       LotArea  MSSubClass  OverallQual  OverallCond  LotShape_IR2  \\\n",
      "254  -0.212896   -0.866764    -0.820445     0.372217         False   \n",
      "1066 -0.265245    0.074110    -0.088934     1.268609         False   \n",
      "638  -0.177841   -0.631546    -0.820445     1.268609         False   \n",
      "799  -0.324474   -0.161109    -0.820445     1.268609         False   \n",
      "380  -0.529035   -0.161109    -0.820445     0.372217         False   \n",
      "\n",
      "      LotShape_IR3  LotShape_Reg  HouseStyle_1.5Unf  HouseStyle_1Story  \\\n",
      "254          False          True              False               True   \n",
      "1066         False         False              False              False   \n",
      "638          False          True              False               True   \n",
      "799          False          True              False              False   \n",
      "380          False          True              False              False   \n",
      "\n",
      "      HouseStyle_2.5Fin  ...  HouseStyle_SLvl  LandContour_HLS  \\\n",
      "254               False  ...            False            False   \n",
      "1066              False  ...            False            False   \n",
      "638               False  ...            False            False   \n",
      "799               False  ...            False            False   \n",
      "380               False  ...            False            False   \n",
      "\n",
      "      LandContour_Low  LandContour_Lvl  Utilities_NoSeWa  RoofStyle_Gable  \\\n",
      "254             False             True             False             True   \n",
      "1066            False             True             False             True   \n",
      "638             False             True             False             True   \n",
      "799             False             True             False             True   \n",
      "380             False             True             False             True   \n",
      "\n",
      "      RoofStyle_Gambrel  RoofStyle_Hip  RoofStyle_Mansard  RoofStyle_Shed  \n",
      "254               False          False              False           False  \n",
      "1066              False          False              False           False  \n",
      "638               False          False              False           False  \n",
      "799               False          False              False           False  \n",
      "380               False          False              False           False  \n",
      "\n",
      "[5 rows x 23 columns]\n"
     ]
    }
   ],
   "source": [
    "from sklearn.impute import SimpleImputer\n",
    "num_imputer = SimpleImputer(strategy='mean')\n",
    "X_train_num_imputed = pd.DataFrame(\n",
    "    num_imputer.fit_transform(X_train_num), \n",
    "    columns=X_train_num.columns, \n",
    "    index=X_train_num.index)\n",
    "scaler = StandardScaler()\n",
    "X_train_num_scaled = scaler.fit_transform(X_train_num_imputed)\n",
    "X_train_num_processed = pd.DataFrame(\n",
    "    X_train_num_scaled, \n",
    "    columns=X_train_num.columns, \n",
    "    index=X_train_num_imputed.index)\n",
    "print(\"Processed Training Numerical Features (Head):\")\n",
    "print(X_train_num_processed.head())\n",
    "X_val_num_imputed = pd.DataFrame(\n",
    "    num_imputer.transform(X_val_num), \n",
    "    columns=X_val_num.columns, \n",
    "    index=X_val_num.index)\n",
    "X_val_num_scaled = scaler.transform(X_val_num_imputed)\n",
    "X_val_num_processed = pd.DataFrame(\n",
    "    X_val_num_scaled, \n",
    "    columns=X_val_num.columns, \n",
    "    index=X_val_num_imputed.index)\n",
    "print(\"\\nProcessed Validation Numerical Features (Head):\")\n",
    "print(X_val_num_processed.head())\n",
    "X_train_cat_imputed = X_train_cat.fillna('Missing')\n",
    "X_train_cat_processed = pd.get_dummies(X_train_cat_imputed, drop_first=True)\n",
    "print(\"\\nProcessed Training Categorical Features (Head):\")\n",
    "print(X_train_cat_processed.head())\n",
    "X_val_cat_imputed = X_val_cat.fillna('Missing')\n",
    "X_val_cat_processed = pd.get_dummies(X_val_cat_imputed, drop_first=True)\n",
    "X_val_cat_processed = X_val_cat_processed.reindex(\n",
    "    columns=X_train_cat_processed.columns, \n",
    "    fill_value=0)\n",
    "print(\"\\nProcessed Validation Categorical Features (Head):\")\n",
    "print(X_val_cat_processed.head())\n",
    "X_train_processed = pd.concat([X_train_num_processed, X_train_cat_processed], axis=1)\n",
    "X_val_processed = pd.concat([X_val_num_processed, X_val_cat_processed], axis=1)\n",
    "print(\"\\nFinal Combined Training Features (Head):\")\n",
    "print(X_train_processed.head())"
   ]
  },
  {
   "cell_type": "code",
   "execution_count": 32,
   "id": "22d64b08-2c99-47b9-83ea-aa8b10df228f",
   "metadata": {},
   "outputs": [
    {
     "name": "stdout",
     "output_type": "stream",
     "text": [
      "Model trained successfully.\n"
     ]
    }
   ],
   "source": [
    "from sklearn.linear_model import Ridge \n",
    "model = Ridge(random_state=42)\n",
    "model.fit(X_train_processed, y_train_log)\n",
    "print(\"Model trained successfully.\")"
   ]
  },
  {
   "cell_type": "code",
   "execution_count": 33,
   "id": "9d8752d6-fe7a-46e7-835b-729314e0f00a",
   "metadata": {},
   "outputs": [
    {
     "name": "stdout",
     "output_type": "stream",
     "text": [
      "\n",
      "Final Validation RMSLE Score: 0.2196\n"
     ]
    }
   ],
   "source": [
    "from sklearn.metrics import mean_squared_log_error\n",
    "def compute_rmsle(y_test: np.ndarray, y_pred: np.ndarray, precision: int = 4) -> float:\n",
    "    rmsle = np.sqrt(mean_squared_log_error(y_test, y_pred))\n",
    "    return round(rmsle, precision)\n",
    "\n",
    "y_val_log_pred = model.predict(X_val_processed)\n",
    "\n",
    "y_val_pred = np.exp(y_val_log_pred)\n",
    "\n",
    "y_val_actual = np.exp(y_val_log) \n",
    "\n",
    "rmsle_score = compute_rmsle(y_val_actual, y_val_pred)\n",
    "\n",
    "print(f\"\\nFinal Validation RMSLE Score: {rmsle_score}\")"
   ]
  },
  {
   "cell_type": "code",
   "execution_count": 34,
   "id": "cad65638-9547-4f86-a9b9-e475e19b22e8",
   "metadata": {},
   "outputs": [],
   "source": [
    "X_train_processed.to_parquet(\"../data/processed_df.parquet\", index=False)\n"
   ]
  },
  {
   "cell_type": "code",
   "execution_count": null,
   "id": "bdd4b933-be06-467c-bb83-a0979b175058",
   "metadata": {},
   "outputs": [],
   "source": [
    "\n"
   ]
  },
  {
   "cell_type": "code",
   "execution_count": null,
   "id": "288dee45-61d8-4528-b075-c5decfe46a05",
   "metadata": {},
   "outputs": [],
   "source": []
  },
  {
   "cell_type": "code",
   "execution_count": null,
   "id": "f036fec3-bb9e-4d08-949d-06f742fa3318",
   "metadata": {},
   "outputs": [],
   "source": []
  },
  {
   "cell_type": "code",
   "execution_count": null,
   "id": "f181eb12-ca69-4366-b346-cf44fd8286fe",
   "metadata": {},
   "outputs": [],
   "source": []
  }
 ],
 "metadata": {
  "kernelspec": {
   "display_name": "Python 3 (ipykernel)",
   "language": "python",
   "name": "python3"
  },
  "language_info": {
   "codemirror_mode": {
    "name": "ipython",
    "version": 3
   },
   "file_extension": ".py",
   "mimetype": "text/x-python",
   "name": "python",
   "nbconvert_exporter": "python",
   "pygments_lexer": "ipython3",
   "version": "3.13.5"
  }
 },
 "nbformat": 4,
 "nbformat_minor": 5
}
